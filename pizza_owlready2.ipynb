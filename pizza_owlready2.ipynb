{
 "nbformat": 4,
 "nbformat_minor": 0,
 "metadata": {
  "colab": {
   "provenance": []
  },
  "kernelspec": {
   "name": "python3",
   "display_name": "Python 3"
  },
  "language_info": {
   "name": "python"
  }
 },
 "cells": [
  {
   "cell_type": "code",
   "execution_count": 1,
   "metadata": {
    "colab": {
     "base_uri": "https://localhost:8080/"
    },
    "id": "giTLhGAiviJ7",
    "outputId": "21a4ec64-f89e-47d0-9418-302968e2969f"
   },
   "outputs": [
    {
     "name": "stdout",
     "output_type": "stream",
     "text": [
      "Requirement already satisfied: owlready2 in ./venv/lib/python3.9/site-packages (0.39)\r\n",
      "\u001B[33mWARNING: You are using pip version 21.3.1; however, version 23.0 is available.\r\n",
      "You should consider upgrading via the '/Users/jorge/PycharmProjects/pizzaOwl/venv/bin/python -m pip install --upgrade pip' command.\u001B[0m\r\n"
     ]
    }
   ],
   "source": [
    "!pip install owlready2"
   ]
  },
  {
   "cell_type": "markdown",
   "source": [
    "Primero importamos el paquete owlready y creamos una ontologia sobre la que trabajaremos"
   ],
   "metadata": {
    "id": "XSkeOQdQwdFB"
   }
  },
  {
   "cell_type": "code",
   "source": [
    "from owlready2 import *\n",
    "\n",
    "onto = get_ontology(\"pizza.owl\")"
   ],
   "metadata": {
    "id": "dfv2n5s6vlEo"
   },
   "execution_count": 2,
   "outputs": [
    {
     "name": "stderr",
     "output_type": "stream",
     "text": [
      "* Owlready2 * Warning: optimized Cython parser module 'owlready2_optimized' is not available, defaulting to slower Python implementation\n"
     ]
    }
   ]
  },
  {
   "cell_type": "markdown",
   "source": [
    "A continuacion, creamos tres clases, una para representar la pizza y dos para la base y los ingredientes. Estas tres clases son disjuntas, ya que por ejemplo, un ingrediente solo puede pertenecer a la clase PizzaTopping, y no a Pizza o PizzaBase."
   ],
   "metadata": {
    "id": "TWYcDyyiwBs5"
   }
  },
  {
   "cell_type": "code",
   "source": [
    "with onto:\n",
    "    class Pizza(Thing): pass\n",
    "    class PizzaBase(Thing): pass\n",
    "    class PizzaTopping(Thing): pass\n",
    "    AllDisjoint([Pizza, PizzaTopping, PizzaBase])"
   ],
   "metadata": {
    "id": "xE388poRv5x-"
   },
   "execution_count": 3,
   "outputs": []
  },
  {
   "cell_type": "markdown",
   "source": [
    "Tanto las clases PizzaBase como PizzaTopping incluyen distintos tipos de base e ingredientes que usaremos para crear pizzas.\n",
    "Es importante tambien que marquemos estas subclases como disjuntas."
   ],
   "metadata": {
    "id": "yXTC9OjTwwV0"
   }
  },
  {
   "cell_type": "code",
   "source": [
    "with onto:\n",
    "    class ThinAndCrispy(PizzaBase): pass\n",
    "    class DeepPan(PizzaBase): pass\n",
    "    AllDisjoint([ThinAndCrispy, DeepPan])\n",
    "\n",
    "    class Meat(PizzaTopping): pass\n",
    "    class SeaFood(PizzaTopping): pass\n",
    "    class Cheese(PizzaTopping): pass\n",
    "    class Vegetable(PizzaTopping): pass\n",
    "    AllDisjoint([Meat, SeaFood, Cheese, Vegetable])"
   ],
   "metadata": {
    "id": "GTKIJfzIwrVd"
   },
   "execution_count": 4,
   "outputs": []
  },
  {
   "cell_type": "markdown",
   "source": [
    "Del mismo modo, para cada clase ingrediente existen diferentes tipos:"
   ],
   "metadata": {
    "id": "Gt2uzkWuyNhF"
   }
  },
  {
   "cell_type": "code",
   "source": [
    "with onto:\n",
    "    # Meat subclasses\n",
    "    class Ham(Meat): pass\n",
    "    class Pepperoni(Meat): pass\n",
    "    class SpicyBeef(Meat): pass\n",
    "    class Salami(Meat): pass\n",
    "    AllDisjoint([Ham, Pepperoni, SpicyBeef, Salami])\n",
    "\n",
    "    # SeaFood subclasses\n",
    "    class Anchovy(SeaFood): pass\n",
    "    class Tuna(SeaFood): pass\n",
    "    class Prawn(SeaFood): pass\n",
    "    AllDisjoint([Anchovy, Tuna, Prawn])\n",
    "\n",
    "    # Cheese subclasses\n",
    "    class Mozarella(Cheese): pass\n",
    "    class Parmezan(Cheese): pass\n",
    "    AllDisjoint([Mozarella, Parmezan])\n",
    "\n",
    "    # Vegetable subclasses\n",
    "    class Caper(Vegetable): pass\n",
    "    class Mushroom(Vegetable): pass\n",
    "    class Olive(Vegetable): pass\n",
    "    class Onion(Vegetable): pass\n",
    "    class Pepper(Vegetable): pass\n",
    "    class Tomato(Vegetable): pass\n",
    "    AllDisjoint([Caper, Mushroom, Olive, Onion, Pepper, Tomato])"
   ],
   "metadata": {
    "id": "erORZSiwyISo"
   },
   "execution_count": 5,
   "outputs": []
  },
  {
   "cell_type": "markdown",
   "source": [
    "Por ultimo, tenemos que para la clase Pepper existen diferentes tipos de pimiento:"
   ],
   "metadata": {
    "id": "JN9FQ6CQy5bP"
   }
  },
  {
   "cell_type": "code",
   "source": [
    "with onto:\n",
    "    class RedPepper(Pepper): pass\n",
    "    class GreenPepper(Pepper): pass\n",
    "    class JalapenoPepper(Pepper): pass\n",
    "    AllDisjoint([RedPepper, GreenPepper, JalapenoPepper])"
   ],
   "metadata": {
    "id": "8cwQs9pfzDNB"
   },
   "execution_count": 6,
   "outputs": []
  },
  {
   "cell_type": "markdown",
   "source": [
    "Con todas las clases y subclases que necesitamos ya creadas, el siguiente paso sera definir algunas propiedades que nos serviran para establecer relaciones entre las clases anteriores."
   ],
   "metadata": {
    "id": "68Z6eEOAGuQ_"
   }
  },
  {
   "cell_type": "code",
   "source": [
    "with onto:\n",
    "    class hasIngredient(ObjectProperty, TransitiveProperty): pass\n",
    "\n",
    "    class hasTopping(hasIngredient):\n",
    "        domain = [Pizza]\n",
    "        range = [PizzaTopping]\n",
    "\n",
    "    class hasBase(hasIngredient, FunctionalProperty):\n",
    "        domain = [Pizza]\n",
    "        range = [PizzaBase]"
   ],
   "metadata": {
    "id": "yOTMWrnHHlDJ"
   },
   "execution_count": 7,
   "outputs": []
  },
  {
   "cell_type": "markdown",
   "source": [
    "En el caso de la propiedad hasIngredient es facil ver que es transitiva, ya que si tenemos un ingrediente A que contiene un ingrediente B y a su vez B contiene otro ingrediente C, C tambien es un ingrediente de A.\n",
    "\n",
    "En cuanto a la propiedad hasTopping, la definimos como una subpropiedad de hasIngredient, con el dominio Pizza y el rango PizzaTopping.\n",
    "\n",
    "hasBase esta tambien definida a partir de hasIngredient, pero en este caso se trata de una propiedad funcional ya que para cada Pizza solo puede haber una PizzaBase correspondiente."
   ],
   "metadata": {
    "id": "GCuLpYXeIJMK"
   }
  },
  {
   "cell_type": "markdown",
   "source": [
    "De manera semejante a como hemos definido las propiedades anteriores, podemos definir sus correspondientes inversas:"
   ],
   "metadata": {
    "id": "PuSdUhnaJj9P"
   }
  },
  {
   "cell_type": "code",
   "source": [
    "with onto:\n",
    "    class isIngredientOf(ObjectProperty, TransitiveProperty): pass\n",
    "\n",
    "    class isToppingOf(isIngredientOf):\n",
    "        domain = [PizzaTopping]\n",
    "        range = [Pizza]\n",
    "\n",
    "    class isBaseOf(isIngredientOf, FunctionalProperty):\n",
    "        domain = [PizzaBase]\n",
    "        range = [Pizza]"
   ],
   "metadata": {
    "id": "9G6KDaBlJ8cZ"
   },
   "execution_count": 8,
   "outputs": []
  },
  {
   "cell_type": "markdown",
   "source": [
    "A continuacion vamos a anadir una restriccion para especificar que cada Pizza debe tener una PizzaBase"
   ],
   "metadata": {
    "id": "SXMgyx_yLR-B"
   }
  },
  {
   "cell_type": "code",
   "source": [
    "with onto:\n",
    "    Pizza.is_a = [hasBase.some(PizzaBase)]"
   ],
   "metadata": {
    "id": "n1zmQp5-L4R1"
   },
   "execution_count": 9,
   "outputs": []
  },
  {
   "cell_type": "markdown",
   "source": [
    "Podemos crear algunas clases para representar distintos tipos de pizzas. En primer lugar creamos una clase llamada NamedPizza, que es subclase de Pizza.\n",
    "Crearemos varios tipos de pizza a partir de NamedPizza:"
   ],
   "metadata": {
    "id": "i0OJtZUFQiHb"
   }
  },
  {
   "cell_type": "code",
   "source": [
    "with onto:\n",
    "    class NamedPizza(Pizza): pass\n",
    "\n",
    "    class MargheritaPizza(NamedPizza):\n",
    "        __annotations__ = \"A pizza that only has Mozzarella and Tomato toppings\"\n",
    "        hasTopping = [Mozarella, Tomato]\n",
    "\n",
    "    class AmericanaPizza(NamedPizza):\n",
    "        hasTopping = [Mozarella, Tomato, Pepperoni]\n",
    "\n",
    "    class AmericanHotPizza(NamedPizza):\n",
    "        hasTopping = [Mozarella, Tomato, Pepperoni, JalapenoPepper]\n",
    "\n",
    "    class SohoPizza(NamedPizza):\n",
    "        hasTopping = [Mozarella, Tomato, Parmezan, Olive]\n",
    "\n",
    "    AllDisjoint([MargheritaPizza, AmericanaPizza, AmericanHotPizza, SohoPizza])"
   ],
   "metadata": {
    "id": "0G6wakoHRVuF"
   },
   "execution_count": 10,
   "outputs": []
  },
  {
   "cell_type": "markdown",
   "source": [
    "Vamos a probar el razonador incluido en owlready2 para ver si detecta inconsistencias en la definicion de clases. Para ello definimos una clase llamada InconsistentTopping, que es subclase de Vegetable y Cheese. De acuerdo con nuestra deficion, ambas clases son disyuntivas por lo que deberia de ser imposible definir una clase perteneciente a ambos ingredientes."
   ],
   "metadata": {
    "id": "BQ33wG7kUgty"
   }
  },
  {
   "cell_type": "code",
   "source": [
    "with onto:\n",
    "    class InconsistentTopping(Vegetable, Cheese):\n",
    "      __annotations__ = \"inconsistency test\"\n",
    "\n",
    "    sync_reasoner_pellet(infer_property_values=True)\n",
    "\n",
    "    inconsistencies = list(default_world.inconsistent_classes())\n",
    "    print(f\"inconsistencias encontradas: {inconsistencies}\")"
   ],
   "metadata": {
    "id": "IouAzduAVz57",
    "colab": {
     "base_uri": "https://localhost:8080/"
    },
    "outputId": "35ff2f86-342f-4943-a869-8593eebcd043"
   },
   "execution_count": 11,
   "outputs": [
    {
     "name": "stderr",
     "output_type": "stream",
     "text": [
      "* Owlready2 * Running Pellet...\n",
      "    java -Xmx2000M -cp /Users/jorge/PycharmProjects/pizzaOwl/venv/lib/python3.9/site-packages/owlready2/pellet/httpclient-4.2.3.jar:/Users/jorge/PycharmProjects/pizzaOwl/venv/lib/python3.9/site-packages/owlready2/pellet/aterm-java-1.6.jar:/Users/jorge/PycharmProjects/pizzaOwl/venv/lib/python3.9/site-packages/owlready2/pellet/xercesImpl-2.10.0.jar:/Users/jorge/PycharmProjects/pizzaOwl/venv/lib/python3.9/site-packages/owlready2/pellet/slf4j-api-1.6.4.jar:/Users/jorge/PycharmProjects/pizzaOwl/venv/lib/python3.9/site-packages/owlready2/pellet/jena-tdb-0.10.0.jar:/Users/jorge/PycharmProjects/pizzaOwl/venv/lib/python3.9/site-packages/owlready2/pellet/jena-iri-0.9.5.jar:/Users/jorge/PycharmProjects/pizzaOwl/venv/lib/python3.9/site-packages/owlready2/pellet/owlapi-distribution-3.4.3-bin.jar:/Users/jorge/PycharmProjects/pizzaOwl/venv/lib/python3.9/site-packages/owlready2/pellet/log4j-1.2.16.jar:/Users/jorge/PycharmProjects/pizzaOwl/venv/lib/python3.9/site-packages/owlready2/pellet/jcl-over-slf4j-1.6.4.jar:/Users/jorge/PycharmProjects/pizzaOwl/venv/lib/python3.9/site-packages/owlready2/pellet/slf4j-log4j12-1.6.4.jar:/Users/jorge/PycharmProjects/pizzaOwl/venv/lib/python3.9/site-packages/owlready2/pellet/antlr-runtime-3.2.jar:/Users/jorge/PycharmProjects/pizzaOwl/venv/lib/python3.9/site-packages/owlready2/pellet/pellet-2.3.1.jar:/Users/jorge/PycharmProjects/pizzaOwl/venv/lib/python3.9/site-packages/owlready2/pellet/jgrapht-jdk1.5.jar:/Users/jorge/PycharmProjects/pizzaOwl/venv/lib/python3.9/site-packages/owlready2/pellet/commons-codec-1.6.jar:/Users/jorge/PycharmProjects/pizzaOwl/venv/lib/python3.9/site-packages/owlready2/pellet/antlr-3.2.jar:/Users/jorge/PycharmProjects/pizzaOwl/venv/lib/python3.9/site-packages/owlready2/pellet/xml-apis-1.4.01.jar:/Users/jorge/PycharmProjects/pizzaOwl/venv/lib/python3.9/site-packages/owlready2/pellet/httpcore-4.2.2.jar:/Users/jorge/PycharmProjects/pizzaOwl/venv/lib/python3.9/site-packages/owlready2/pellet/jena-arq-2.10.0.jar:/Users/jorge/PycharmProjects/pizzaOwl/venv/lib/python3.9/site-packages/owlready2/pellet/jena-core-2.10.0.jar pellet.Pellet realize --loader Jena --input-format N-Triples --infer-prop-values --ignore-imports /var/folders/wx/2j_mpy3n1bn9_qky450rrmtc0000gn/T/tmpkcxd3i4z\n"
     ]
    },
    {
     "name": "stdout",
     "output_type": "stream",
     "text": [
      "inconsistencias encontradas: [owl.Nothing, pizza.InconsistentTopping]\n"
     ]
    },
    {
     "name": "stderr",
     "output_type": "stream",
     "text": [
      "* Owlready2 * Pellet took 1.945755958557129 seconds\n",
      "* Owlready * Equivalenting: owl.Nothing pizza.InconsistentTopping\n",
      "* Owlready * Equivalenting: pizza.InconsistentTopping owl.Nothing\n",
      "* Owlready * (NB: only changes on entities loaded in Python are shown, other changes are done but not listed)\n"
     ]
    }
   ]
  },
  {
   "cell_type": "markdown",
   "source": [
    "El razonador no solo se encarga de encontrar inconsistencias en nuestras definiciones, sino también de clasificar clases sin necesidad de hacerlo por nosotros mismos.\n",
    "Como demostracion, definimos una subclase de Pizza llamada CheesyPizza, que contiene queso como único ingrediente."
   ],
   "metadata": {
    "id": "dzPr3QYDWt3P"
   }
  },
  {
   "cell_type": "code",
   "source": [
    "with onto:\n",
    "    class CheesyPizza(Pizza):\n",
    "      defined_class = True\n",
    "      hasTopping = [Cheese]"
   ],
   "metadata": {
    "id": "ioP7Ba3zXpPj"
   },
   "execution_count": 12,
   "outputs": []
  },
  {
   "cell_type": "markdown",
   "source": [
    "Antes de ejecutar el razonador, la situacion es:"
   ],
   "metadata": {
    "collapsed": false
   }
  },
  {
   "cell_type": "code",
   "execution_count": 14,
   "outputs": [
    {
     "name": "stdout",
     "output_type": "stream",
     "text": [
      "subclases de Pizza [pizza.NamedPizza, pizza.CheesyPizza]\n",
      "subclases de CheesyPizza: []\n",
      "subclases de NamedPizza: [pizza.MargheritaPizza, pizza.AmericanaPizza, pizza.AmericanHotPizza, pizza.SohoPizza]\n"
     ]
    }
   ],
   "source": [
    "print('subclases de Pizza', list(Pizza.subclasses()))\n",
    "print('subclases de CheesyPizza:', list(CheesyPizza.subclasses()))\n",
    "print('subclases de NamedPizza:', list(NamedPizza.subclasses()))"
   ],
   "metadata": {
    "collapsed": false
   }
  },
  {
   "cell_type": "markdown",
   "source": [
    "Ejecutamos el razonador..."
   ],
   "metadata": {
    "collapsed": false
   }
  },
  {
   "cell_type": "code",
   "execution_count": 15,
   "outputs": [
    {
     "name": "stderr",
     "output_type": "stream",
     "text": [
      "* Owlready2 * Running Pellet...\n",
      "    java -Xmx2000M -cp /Users/jorge/PycharmProjects/pizzaOwl/venv/lib/python3.9/site-packages/owlready2/pellet/httpclient-4.2.3.jar:/Users/jorge/PycharmProjects/pizzaOwl/venv/lib/python3.9/site-packages/owlready2/pellet/aterm-java-1.6.jar:/Users/jorge/PycharmProjects/pizzaOwl/venv/lib/python3.9/site-packages/owlready2/pellet/xercesImpl-2.10.0.jar:/Users/jorge/PycharmProjects/pizzaOwl/venv/lib/python3.9/site-packages/owlready2/pellet/slf4j-api-1.6.4.jar:/Users/jorge/PycharmProjects/pizzaOwl/venv/lib/python3.9/site-packages/owlready2/pellet/jena-tdb-0.10.0.jar:/Users/jorge/PycharmProjects/pizzaOwl/venv/lib/python3.9/site-packages/owlready2/pellet/jena-iri-0.9.5.jar:/Users/jorge/PycharmProjects/pizzaOwl/venv/lib/python3.9/site-packages/owlready2/pellet/owlapi-distribution-3.4.3-bin.jar:/Users/jorge/PycharmProjects/pizzaOwl/venv/lib/python3.9/site-packages/owlready2/pellet/log4j-1.2.16.jar:/Users/jorge/PycharmProjects/pizzaOwl/venv/lib/python3.9/site-packages/owlready2/pellet/jcl-over-slf4j-1.6.4.jar:/Users/jorge/PycharmProjects/pizzaOwl/venv/lib/python3.9/site-packages/owlready2/pellet/slf4j-log4j12-1.6.4.jar:/Users/jorge/PycharmProjects/pizzaOwl/venv/lib/python3.9/site-packages/owlready2/pellet/antlr-runtime-3.2.jar:/Users/jorge/PycharmProjects/pizzaOwl/venv/lib/python3.9/site-packages/owlready2/pellet/pellet-2.3.1.jar:/Users/jorge/PycharmProjects/pizzaOwl/venv/lib/python3.9/site-packages/owlready2/pellet/jgrapht-jdk1.5.jar:/Users/jorge/PycharmProjects/pizzaOwl/venv/lib/python3.9/site-packages/owlready2/pellet/commons-codec-1.6.jar:/Users/jorge/PycharmProjects/pizzaOwl/venv/lib/python3.9/site-packages/owlready2/pellet/antlr-3.2.jar:/Users/jorge/PycharmProjects/pizzaOwl/venv/lib/python3.9/site-packages/owlready2/pellet/xml-apis-1.4.01.jar:/Users/jorge/PycharmProjects/pizzaOwl/venv/lib/python3.9/site-packages/owlready2/pellet/httpcore-4.2.2.jar:/Users/jorge/PycharmProjects/pizzaOwl/venv/lib/python3.9/site-packages/owlready2/pellet/jena-arq-2.10.0.jar:/Users/jorge/PycharmProjects/pizzaOwl/venv/lib/python3.9/site-packages/owlready2/pellet/jena-core-2.10.0.jar pellet.Pellet realize --loader Jena --input-format N-Triples --infer-prop-values --ignore-imports /var/folders/wx/2j_mpy3n1bn9_qky450rrmtc0000gn/T/tmp1930ybo1\n",
      "* Owlready2 * Pellet took 1.6466920375823975 seconds\n",
      "* Owlready * Equivalenting: owl.Nothing pizza.InconsistentTopping\n",
      "* Owlready * Equivalenting: pizza.InconsistentTopping owl.Nothing\n",
      "* Owlready * Reparenting pizza.AmericanHotPizza: {pizza.NamedPizza} => {pizza.CheesyPizza, pizza.NamedPizza}\n",
      "* Owlready * Reparenting pizza.AmericanaPizza: {pizza.NamedPizza} => {pizza.CheesyPizza, pizza.NamedPizza}\n",
      "* Owlready * Reparenting pizza.MargheritaPizza: {pizza.NamedPizza} => {pizza.CheesyPizza, pizza.NamedPizza}\n",
      "* Owlready * Reparenting pizza.SohoPizza: {pizza.NamedPizza} => {pizza.CheesyPizza, pizza.NamedPizza}\n",
      "* Owlready * (NB: only changes on entities loaded in Python are shown, other changes are done but not listed)\n"
     ]
    }
   ],
   "source": [
    "sync_reasoner_pellet(infer_property_values=True)"
   ],
   "metadata": {
    "collapsed": false
   }
  },
  {
   "cell_type": "markdown",
   "source": [
    "Y ahora tenemos que"
   ],
   "metadata": {
    "collapsed": false
   }
  },
  {
   "cell_type": "code",
   "execution_count": 16,
   "outputs": [
    {
     "name": "stdout",
     "output_type": "stream",
     "text": [
      "subclases de Pizza [pizza.NamedPizza, pizza.CheesyPizza]\n",
      "subclases de CheesyPizza: [pizza.MargheritaPizza, pizza.AmericanaPizza, pizza.AmericanHotPizza, pizza.SohoPizza]\n",
      "subclases de NamedPizza: [pizza.MargheritaPizza, pizza.AmericanaPizza, pizza.AmericanHotPizza, pizza.SohoPizza]\n"
     ]
    }
   ],
   "source": [
    "print('subclases de Pizza', list(Pizza.subclasses()))\n",
    "print('subclases de CheesyPizza:', list(CheesyPizza.subclasses()))\n",
    "print('subclases de NamedPizza:', list(NamedPizza.subclasses()))"
   ],
   "metadata": {
    "collapsed": false
   }
  },
  {
   "cell_type": "markdown",
   "source": [
    "Como vemos el razonador se ha encargado de incluir las pizzas que habiamos definido antes como subclases de NamedPizza también como subclases de CheesyPizza.\n"
   ],
   "metadata": {
    "collapsed": false
   }
  }
 ]
}
